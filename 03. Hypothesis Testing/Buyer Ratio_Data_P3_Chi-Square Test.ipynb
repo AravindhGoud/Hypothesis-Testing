{
 "cells": [
  {
   "cell_type": "markdown",
   "id": "d3bc9304",
   "metadata": {},
   "source": [
    "# Hypthosis Testing Assumption\n",
    "H0(Null Hypothesis): There is no significance association between the two variables i.e Independent\n",
    "\n",
    "\n",
    "H1(Alternative Hypothesis): There is a significance association between the two variables, i.e dependent "
   ]
  },
  {
   "cell_type": "code",
   "execution_count": 30,
   "id": "0e0673ca",
   "metadata": {},
   "outputs": [
    {
     "data": {
      "text/html": [
       "<div>\n",
       "<style scoped>\n",
       "    .dataframe tbody tr th:only-of-type {\n",
       "        vertical-align: middle;\n",
       "    }\n",
       "\n",
       "    .dataframe tbody tr th {\n",
       "        vertical-align: top;\n",
       "    }\n",
       "\n",
       "    .dataframe thead th {\n",
       "        text-align: right;\n",
       "    }\n",
       "</style>\n",
       "<table border=\"1\" class=\"dataframe\">\n",
       "  <thead>\n",
       "    <tr style=\"text-align: right;\">\n",
       "      <th></th>\n",
       "      <th>Observed Values</th>\n",
       "      <th>East</th>\n",
       "      <th>West</th>\n",
       "      <th>North</th>\n",
       "      <th>South</th>\n",
       "    </tr>\n",
       "  </thead>\n",
       "  <tbody>\n",
       "    <tr>\n",
       "      <th>0</th>\n",
       "      <td>Males</td>\n",
       "      <td>50</td>\n",
       "      <td>142</td>\n",
       "      <td>131</td>\n",
       "      <td>70</td>\n",
       "    </tr>\n",
       "    <tr>\n",
       "      <th>1</th>\n",
       "      <td>Females</td>\n",
       "      <td>435</td>\n",
       "      <td>1523</td>\n",
       "      <td>1356</td>\n",
       "      <td>750</td>\n",
       "    </tr>\n",
       "  </tbody>\n",
       "</table>\n",
       "</div>"
      ],
      "text/plain": [
       "  Observed Values  East  West  North  South\n",
       "0           Males    50   142    131     70\n",
       "1         Females   435  1523   1356    750"
      ]
     },
     "execution_count": 30,
     "metadata": {},
     "output_type": "execute_result"
    }
   ],
   "source": [
    "from scipy.stats import chi2_contingency\n",
    "import pandas as pd\n",
    "\n",
    "df=pd.read_csv(r'C:\\Users\\aravi\\OneDrive\\Desktop\\ExcelR Assignments\\03. Hypothesis Testing\\BuyerRatio.csv')\n",
    "df"
   ]
  },
  {
   "cell_type": "code",
   "execution_count": 49,
   "id": "fa5551ac",
   "metadata": {},
   "outputs": [
    {
     "name": "stdout",
     "output_type": "stream",
     "text": [
      "   East  West  North  South\n",
      "0    50   142    131     70\n",
      "1   435  1523   1356    750\n"
     ]
    },
    {
     "data": {
      "text/plain": [
       "array([[  50,  142,  131,   70],\n",
       "       [ 435, 1523, 1356,  750]], dtype=int64)"
      ]
     },
     "execution_count": 49,
     "metadata": {},
     "output_type": "execute_result"
    }
   ],
   "source": [
    "dfnew=df.iloc[:,1:6]\n",
    "print(dfnew)\n",
    "dfnew.values"
   ]
  },
  {
   "cell_type": "code",
   "execution_count": 55,
   "id": "d16d531e",
   "metadata": {},
   "outputs": [
    {
     "data": {
      "text/plain": [
       "0.6603094907091882"
      ]
     },
     "execution_count": 55,
     "metadata": {},
     "output_type": "execute_result"
    }
   ],
   "source": [
    "stat, p, dof, expected = chi2_contingency(dfnew)\n",
    "p"
   ]
  },
  {
   "cell_type": "code",
   "execution_count": 69,
   "id": "b820c576",
   "metadata": {},
   "outputs": [
    {
     "name": "stdout",
     "output_type": "stream",
     "text": [
      "\n",
      " p value is 0.6603094907091882 \n",
      "\n",
      "There is no significance association between the two variables,Gender & Regions are Independent Variables (Accept H0)\n"
     ]
    }
   ],
   "source": [
    " # Interpret p-value\n",
    "    \n",
    "alpha = 0.05\n",
    "\n",
    "print('\\n',\"p value is \" + str(p),'\\n')\n",
    "\n",
    "if p <= alpha:\n",
    "    print('There is a significance association between the two variables,Dependent Variables (reject H0)')\n",
    "else:\n",
    "    print('There is no significance association between the two variables,Gender & Regions are Independent Variables (Accept H0)')\n"
   ]
  },
  {
   "cell_type": "code",
   "execution_count": null,
   "id": "dc5c87ba",
   "metadata": {},
   "outputs": [],
   "source": []
  },
  {
   "cell_type": "code",
   "execution_count": null,
   "id": "ccfab5f8",
   "metadata": {},
   "outputs": [],
   "source": []
  }
 ],
 "metadata": {
  "kernelspec": {
   "display_name": "Python 3 (ipykernel)",
   "language": "python",
   "name": "python3"
  },
  "language_info": {
   "codemirror_mode": {
    "name": "ipython",
    "version": 3
   },
   "file_extension": ".py",
   "mimetype": "text/x-python",
   "name": "python",
   "nbconvert_exporter": "python",
   "pygments_lexer": "ipython3",
   "version": "3.9.12"
  }
 },
 "nbformat": 4,
 "nbformat_minor": 5
}
