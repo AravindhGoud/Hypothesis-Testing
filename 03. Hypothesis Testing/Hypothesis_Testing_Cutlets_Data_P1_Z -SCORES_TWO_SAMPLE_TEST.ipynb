{
 "cells": [
  {
   "cell_type": "code",
   "execution_count": 59,
   "id": "eb2be600",
   "metadata": {},
   "outputs": [],
   "source": [
    "from scipy import stats\n",
    "from statsmodels.stats.weightstats import ztest as ztest\n",
    "import pandas as pd"
   ]
  },
  {
   "cell_type": "code",
   "execution_count": 60,
   "id": "dd8a0241",
   "metadata": {},
   "outputs": [],
   "source": [
    "df = pd.read_csv(r\"C:\\Users\\aravi\\OneDrive\\Desktop\\ExcelR Assignments\\03. Hypothesis Testing\\Cutlets.csv\")"
   ]
  },
  {
   "cell_type": "code",
   "execution_count": 69,
   "id": "fb7619b4",
   "metadata": {
    "scrolled": true
   },
   "outputs": [
    {
     "name": "stdout",
     "output_type": "stream",
     "text": [
      "<class 'pandas.core.frame.DataFrame'>\n",
      "RangeIndex: 35 entries, 0 to 34\n",
      "Data columns (total 2 columns):\n",
      " #   Column  Non-Null Count  Dtype  \n",
      "---  ------  --------------  -----  \n",
      " 0   Unit_A  35 non-null     float64\n",
      " 1   Unit_B  35 non-null     float64\n",
      "dtypes: float64(2)\n",
      "memory usage: 688.0 bytes\n"
     ]
    }
   ],
   "source": [
    "df.info()"
   ]
  },
  {
   "cell_type": "code",
   "execution_count": 70,
   "id": "6ffc187c",
   "metadata": {},
   "outputs": [],
   "source": [
    "# ASSUMPTIONS OF THE BUSINESS PROBLEM\n",
    "# H0 (NULL HYPOTHESIS): THERE IS NO SIGNIFICANCE DIFFERENCE IN DIAMETER OF THE CUTLET BETWEEN TWO UNITS\n",
    "# H1 (ALTERNATIVE HYPOTHESIS): THERE IS A SIGNIFICANCE DIFFERENCE IN DIAMETER OF THE CUTLET BETWEEN TWO UNITS\n",
    "\n",
    "# Z SCORES TWO SAMPLE TEST IS THE BEST SUITABLE TEST BECAUSE SAMPLE OBSERVATIONS ARE MORE THAN 30"
   ]
  },
  {
   "cell_type": "code",
   "execution_count": 71,
   "id": "692a06c6",
   "metadata": {},
   "outputs": [
    {
     "data": {
      "text/plain": [
       "(0.7228688704678063, 0.46976045023906055)"
      ]
     },
     "execution_count": 71,
     "metadata": {},
     "output_type": "execute_result"
    }
   ],
   "source": [
    "zvalue,pvalue=ztest(df['Unit_A'], x2=df['Unit_B'], value=0)\n",
    "zvalue,pvalue"
   ]
  },
  {
   "cell_type": "code",
   "execution_count": 72,
   "id": "1ad7614c",
   "metadata": {},
   "outputs": [
    {
     "name": "stdout",
     "output_type": "stream",
     "text": [
      "0.46976045023906055\n",
      "accept null hypothesis\n"
     ]
    }
   ],
   "source": [
    "print(float(pval1))\n",
    "\n",
    "if pval1<0.05:\n",
    "    print(\"reject null hypothesis\")\n",
    "else:\n",
    "    print(\"accept null hypothesis\")"
   ]
  },
  {
   "cell_type": "code",
   "execution_count": 73,
   "id": "c925cf15",
   "metadata": {},
   "outputs": [
    {
     "data": {
      "text/plain": [
       "1.959963984540054"
      ]
     },
     "execution_count": 73,
     "metadata": {},
     "output_type": "execute_result"
    }
   ],
   "source": [
    "Z_Alpha=stats.norm.ppf(1-0.05/2) # Z value at 5% level of Significance\n",
    "Z_Alpha"
   ]
  },
  {
   "cell_type": "code",
   "execution_count": 74,
   "id": "15e9c87d",
   "metadata": {},
   "outputs": [
    {
     "data": {
      "text/plain": [
       "True"
      ]
     },
     "execution_count": 74,
     "metadata": {},
     "output_type": "execute_result"
    }
   ],
   "source": [
    "zvalue<Z_Alpha"
   ]
  },
  {
   "cell_type": "code",
   "execution_count": 75,
   "id": "35f7dfb8",
   "metadata": {},
   "outputs": [],
   "source": [
    "# We accept the NULL HYPOTHESIS that is There is no significance difference in diameter of the cutlet between two units"
   ]
  },
  {
   "cell_type": "code",
   "execution_count": null,
   "id": "486ab129",
   "metadata": {},
   "outputs": [],
   "source": []
  },
  {
   "cell_type": "code",
   "execution_count": null,
   "id": "4a9a560f",
   "metadata": {},
   "outputs": [],
   "source": []
  }
 ],
 "metadata": {
  "kernelspec": {
   "display_name": "Python 3 (ipykernel)",
   "language": "python",
   "name": "python3"
  },
  "language_info": {
   "codemirror_mode": {
    "name": "ipython",
    "version": 3
   },
   "file_extension": ".py",
   "mimetype": "text/x-python",
   "name": "python",
   "nbconvert_exporter": "python",
   "pygments_lexer": "ipython3",
   "version": "3.9.12"
  }
 },
 "nbformat": 4,
 "nbformat_minor": 5
}
